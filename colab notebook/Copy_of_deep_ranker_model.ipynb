{
 "cells": [
  {
   "cell_type": "markdown",
   "metadata": {
    "id": "tVHdgOQgTcz_"
   },
   "source": [
    "# importing necessary libreries"
   ]
  },
  {
   "cell_type": "code",
   "execution_count": 1,
   "metadata": {
    "colab": {
     "base_uri": "https://localhost:8080/"
    },
    "id": "oCgBasxETiOl",
    "outputId": "1758c49e-4ad4-4fcb-816d-35e2da205147"
   },
   "outputs": [],
   "source": [
    "! pip install -q tensorflow-recommenders"
   ]
  },
  {
   "cell_type": "code",
   "execution_count": 3,
   "metadata": {
    "id": "7moosUB_TJhG"
   },
   "outputs": [],
   "source": [
    "import tensorflow as tf\n",
    "import numpy as np\n",
    "import pprint\n",
    "import tensorflow_recommenders as tfrs\n"
   ]
  },
  {
   "cell_type": "code",
   "execution_count": 4,
   "metadata": {
    "colab": {
     "base_uri": "https://localhost:8080/"
    },
    "id": "JfcDwUfiULEu",
    "outputId": "979a66b1-6771-4d8d-c952-05e31f5fabf4"
   },
   "outputs": [
    {
     "name": "stdout",
     "output_type": "stream",
     "text": [
      "{'bucketized_user_age': 45.0,\n",
      " 'movie_genres': array([7]),\n",
      " 'movie_id': b'357',\n",
      " 'movie_title': b\"One Flew Over the Cuckoo's Nest (1975)\",\n",
      " 'raw_user_age': 46.0,\n",
      " 'timestamp': 879024327,\n",
      " 'user_gender': True,\n",
      " 'user_id': b'138',\n",
      " 'user_occupation_label': 4,\n",
      " 'user_occupation_text': b'doctor',\n",
      " 'user_rating': 4.0,\n",
      " 'user_zip_code': b'53211'}\n"
     ]
    }
   ],
   "source": [
    "movies=tf.data.experimental.load('/content/drive/MyDrive/datasets/movielens_movies')\n",
    "ratings=tf.data.experimental.load('/content/drive/MyDrive/datasets/movielens_ratings')\n",
    "for x in ratings.take(1).as_numpy_iterator():\n",
    "  pprint.pprint(x)"
   ]
  },
  {
   "cell_type": "code",
   "execution_count": 6,
   "metadata": {
    "id": "jKcZqQteUTks"
   },
   "outputs": [],
   "source": [
    "all_data=ratings.map(lambda x:{\n",
    "    'age':x['raw_user_age'],\n",
    "    'time':x['timestamp'],\n",
    "    'user_id':x['user_id'],\n",
    "    'movie_id':x['movie_id'],\n",
    "    'gender':x['user_gender'],\n",
    "    'occupation':x['user_occupation_text'],\n",
    "    'movie_title':x['movie_title'],\n",
    "    'genre':x['movie_genres'][0],\n",
    "    'rating':x['user_rating']\n",
    "})\n",
    "user_data=ratings.map(lambda x:{\n",
    "    'age':x['raw_user_age'],\n",
    "    'time':x['timestamp'],\n",
    "    'gender':x['user_gender'],\n",
    "    'occupation':x['user_occupation_text'],\n",
    "    'movie_title':x['movie_title'],\n",
    "    'genre':x['movie_genres'][0],\n",
    "    'rating':x['user_rating']\n",
    "})\n",
    "movie_data=movies.map(lambda x: {'movie_title':x['movie_title'],\n",
    "                      'genre':float(x['movie_genres'][0])})\n",
    "movie_title=movies.map(lambda x:x['movie_title']\n",
    "                     )"
   ]
  },
  {
   "cell_type": "code",
   "execution_count": 7,
   "metadata": {
    "colab": {
     "base_uri": "https://localhost:8080/"
    },
    "id": "-ejSpyuQUwZ_",
    "outputId": "3a583d10-cc1d-4acc-a8ec-7e5a0355392b"
   },
   "outputs": [
    {
     "name": "stdout",
     "output_type": "stream",
     "text": [
      "{'age': 46.0,\n",
      " 'gender': True,\n",
      " 'genre': 7,\n",
      " 'movie_title': b\"One Flew Over the Cuckoo's Nest (1975)\",\n",
      " 'occupation': b'doctor',\n",
      " 'rating': 4.0,\n",
      " 'time': 879024327}\n",
      "-------------------------------\n",
      "{'genre': 4.0, 'movie_title': b'You So Crazy (1994)'}\n"
     ]
    }
   ],
   "source": [
    "for x in user_data.take(1).as_numpy_iterator():\n",
    "  pprint.pprint(x)\n",
    "print('-------------------------------')\n",
    "for x in movie_data.take(1).as_numpy_iterator():\n",
    "  pprint.pprint(x)"
   ]
  },
  {
   "cell_type": "markdown",
   "metadata": {
    "id": "k68nQLncZwm9"
   },
   "source": [
    "# creating vocabulary for string features"
   ]
  },
  {
   "cell_type": "code",
   "execution_count": 8,
   "metadata": {
    "id": "BQvsHUZ2YwfO"
   },
   "outputs": [],
   "source": [
    "movie_titles=user_data.map(lambda x:x['movie_title'])\n",
    "unique_movie_titles=np.unique(np.concatenate(list(movie_titles.batch(1_000))))\n",
    "user_occupation=user_data.map(lambda x :x['occupation'])\n",
    "unique_user_occupation=np.unique(np.concatenate(list(user_occupation.batch(1_000))))\n",
    "movie_genres=user_data.map(lambda x :x['genre'])\n",
    "unique_movie_genres=np.unique(np.concatenate(list(movie_genres.batch(1_000))))\n",
    "user_gender=movie_genres=user_data.map(lambda x :x['gender'])\n",
    "unique_user_gender=np.unique(np.concatenate(list(user_gender.batch(1_000))))"
   ]
  },
  {
   "cell_type": "code",
   "execution_count": 9,
   "metadata": {
    "id": "wKkhX9GnYzId"
   },
   "outputs": [],
   "source": [
    "timestamp=user_data.map(lambda x : x['time'])\n",
    "min_timestamp=np.unique(np.concatenate(list(timestamp.batch(1_000)))).min()\n",
    "max_timestamp=np.unique(np.concatenate(list(timestamp.batch(1_000)))).max()\n",
    "time_bucket=np.linspace(min_timestamp,max_timestamp,1000)\n",
    "ages=user_data.map(lambda x : x['age'])"
   ]
  },
  {
   "cell_type": "markdown",
   "metadata": {
    "id": "dTNmUSRZZql5"
   },
   "source": [
    "# spliting data to train and test"
   ]
  },
  {
   "cell_type": "code",
   "execution_count": 10,
   "metadata": {
    "id": "Veb-Gd_GY3tl"
   },
   "outputs": [],
   "source": [
    "tf.random.set_seed(123)\n",
    "shuffled=user_data.shuffle(1_000,reshuffle_each_iteration=False)\n",
    "\n",
    "train=shuffled.take(80_000)\n",
    "test=shuffled.skip(80_000).take(10_000)"
   ]
  },
  {
   "cell_type": "markdown",
   "metadata": {
    "id": "pefk1HKcZlu8"
   },
   "source": [
    "# creating seprate models"
   ]
  },
  {
   "cell_type": "code",
   "execution_count": 11,
   "metadata": {
    "id": "Il71GbF6tZdz"
   },
   "outputs": [],
   "source": [
    "embedding_dim=128\n",
    "# age normalizer\n",
    "age_normalizer=tf.keras.layers.Normalization(\n",
    "    axis=None\n",
    ")\n",
    "age_normalizer.adapt(ages)"
   ]
  },
  {
   "cell_type": "code",
   "execution_count": 12,
   "metadata": {
    "id": "3DfO4Z5UxMkM"
   },
   "outputs": [],
   "source": [
    "# gender model\n",
    "gender_model=tf.keras.Sequential(\n",
    "    [tf.keras.layers.IntegerLookup(vocabulary=unique_user_gender),\n",
    "     tf.keras.layers.Embedding(len(unique_user_gender)+1,embedding_dim)\n",
    "    ]\n",
    ")"
   ]
  },
  {
   "cell_type": "code",
   "execution_count": 13,
   "metadata": {
    "id": "o2anWvINxMhX"
   },
   "outputs": [],
   "source": [
    "# genre model\n",
    "genre_normalizer=tf.keras.layers.Normalization(axis=None)\n",
    "genre_normalizer.adapt(movie_genres)\n",
    "genre_model=tf.keras.Sequential([tf.keras.layers.IntegerLookup(vocabulary=unique_movie_genres),\n",
    "    tf.keras.layers.Embedding(len(unique_movie_genres)+1,embedding_dim)\n",
    "     \n",
    "    ]\n",
    ")"
   ]
  },
  {
   "cell_type": "code",
   "execution_count": 14,
   "metadata": {
    "id": "m4rjAvD5xMer"
   },
   "outputs": [],
   "source": [
    "\n",
    "# movie model\n",
    "movie_model=tf.keras.Sequential(\n",
    "    [tf.keras.layers.StringLookup(vocabulary=unique_movie_titles),\n",
    "     tf.keras.layers.Embedding(len(unique_movie_titles)+1,embedding_dim)\n",
    "    ]\n",
    ")"
   ]
  },
  {
   "cell_type": "code",
   "execution_count": 15,
   "metadata": {
    "id": "kImV2qS8xRSR"
   },
   "outputs": [],
   "source": [
    "# occupation model\n",
    "occupation_model=tf.keras.Sequential(\n",
    "    [tf.keras.layers.StringLookup(vocabulary=unique_user_occupation),\n",
    "     tf.keras.layers.Embedding(len(unique_user_occupation)+1,embedding_dim)\n",
    "    ]\n",
    ")"
   ]
  },
  {
   "cell_type": "code",
   "execution_count": 16,
   "metadata": {
    "id": "EsGJ8qdgxRPm"
   },
   "outputs": [],
   "source": [
    "\n",
    "# time normalizer\n",
    "time_model=tf.keras.Sequential(\n",
    "    [tf.keras.layers.Discretization(time_bucket.tolist()),\n",
    "     tf.keras.layers.Embedding(len(time_bucket)+1,embedding_dim)\n",
    "    ]\n",
    ")\n",
    "time_normalizer=tf.keras.layers.Normalization(axis=None)\n",
    "time_normalizer.adapt(timestamp)"
   ]
  },
  {
   "cell_type": "code",
   "execution_count": 17,
   "metadata": {
    "id": "W8YkxWbmxRNH"
   },
   "outputs": [],
   "source": [
    "# rating model\n",
    "rating_model=tf.keras.Sequential(\n",
    "    [tf.keras.layers.Dense(128,activation='tanh'),\n",
    "     tf.keras.layers.Dense(64,activation='tanh'),\n",
    "     tf.keras.layers.Dense(1)\n",
    "     \n",
    "    ]\n",
    ")"
   ]
  },
  {
   "cell_type": "markdown",
   "metadata": {
    "id": "aPTS_u_uZ4mE"
   },
   "source": [
    "# query tower\n",
    "* user model"
   ]
  },
  {
   "cell_type": "code",
   "execution_count": 18,
   "metadata": {
    "id": "C5k0_CgLZ6y2"
   },
   "outputs": [],
   "source": [
    "class UserModel(tf.keras.Model):\n",
    "  def __init__(self):\n",
    "    super().__init__()\n",
    "    self.age_normalizer=age_normalizer\n",
    "    self.gender_model=gender_model\n",
    "    self.occupation_model=occupation_model\n",
    "    self.time_model=time_model\n",
    "    self.time_normalizer=time_normalizer\n",
    "\n",
    "  def call(self,inputs):\n",
    "    out=tf.concat(\n",
    "        [tf.reshape(self.age_normalizer(inputs['age']),(-1,1)),\n",
    "         self.gender_model(inputs['gender']),\n",
    "         self.occupation_model(inputs['occupation']),\n",
    "         self.time_model(inputs['time']),\n",
    "         tf.reshape(self.time_normalizer(inputs['time']),(-1,1))\n",
    "        ],axis=1\n",
    "    )\n",
    "    return out"
   ]
  },
  {
   "cell_type": "code",
   "execution_count": 19,
   "metadata": {
    "id": "T91iQ4D-aFDs"
   },
   "outputs": [],
   "source": [
    "class QueryTower(tf.keras.Model):\n",
    "  def __init__(self,layers):\n",
    "    super().__init__()\n",
    "    self.user_model=UserModel()\n",
    "    self.dense_model=tf.keras.Sequential()\n",
    "    for layer in layers[:-1]:\n",
    "      self.dense_model.add(tf.keras.layers.Dense(layer,activation='relu'))\n",
    "    for layer in layers[-1:]:\n",
    "      self.dense_model.add(tf.keras.layers.Dense(layer,activation='relu'))\n",
    "  def call(self,inputs):\n",
    "    v=self.user_model(inputs)\n",
    "    return self.dense_model(v)"
   ]
  },
  {
   "cell_type": "markdown",
   "metadata": {
    "id": "3Cb16a3AaG11"
   },
   "source": [
    "# candidate tower"
   ]
  },
  {
   "cell_type": "code",
   "execution_count": 20,
   "metadata": {
    "id": "G3UchQZ-aI9E"
   },
   "outputs": [],
   "source": [
    "class MovieModel(tf.keras.Model):\n",
    "  def __init__(self):\n",
    "    super().__init__()\n",
    "    self.movie_model=movie_model\n",
    "    self.genre_model=genre_model\n",
    "    self.genre_normalizer=genre_normalizer\n",
    "  def call(self,inputs):\n",
    "    out=tf.concat(\n",
    "        [self.movie_model(inputs['movie_title']),\n",
    "         self.genre_model(inputs['genre']),\n",
    "         tf.reshape(self.genre_normalizer(inputs['genre']),(-1,1))\n",
    "        ],axis=1\n",
    "    )\n",
    "    return out"
   ]
  },
  {
   "cell_type": "code",
   "execution_count": 21,
   "metadata": {
    "id": "CLcBuAkRaNlE"
   },
   "outputs": [],
   "source": [
    "class CandidateTower(tf.keras.Model):\n",
    "  def __init__(self,layers):\n",
    "    super().__init__()\n",
    "    self.movie_model=MovieModel()\n",
    "    self.dense=tf.keras.Sequential()\n",
    "    for layer in layers[:-1]:\n",
    "      self.dense.add(tf.keras.layers.Dense(layer,activation='relu'))\n",
    "    for layer in layers[-1:]:\n",
    "      self.dense.add(tf.keras.layers.Dense(layer))\n",
    "  def call(self,inputs):\n",
    "    x=self.movie_model(inputs)\n",
    "    return self.dense(x)"
   ]
  },
  {
   "cell_type": "markdown",
   "metadata": {
    "id": "cYN_9dvXaYb8"
   },
   "source": [
    "# rating model"
   ]
  },
  {
   "cell_type": "code",
   "execution_count": 22,
   "metadata": {
    "id": "xfaG8kDkaZ9U"
   },
   "outputs": [],
   "source": [
    "class Rating(tf.keras.Model):\n",
    "  def __init__(self,layers):\n",
    "    super().__init__()\n",
    "    self.candidate_tower=CandidateTower(layers)\n",
    "    self.query_tower=QueryTower(layers)\n",
    "    self.rating_model=rating_model\n",
    "  def call(self,inputs):\n",
    "    candidate_embedings=self.candidate_tower(inputs)\n",
    "    query_embeddings=self.query_tower(inputs)\n",
    "    rating_input=tf.concat([candidate_embedings,query_embeddings],axis=1)\n",
    "    rates=self.rating_model(rating_input)\n",
    "    return rates"
   ]
  },
  {
   "cell_type": "code",
   "execution_count": 24,
   "metadata": {
    "id": "Gt-SIEehb6TY"
   },
   "outputs": [],
   "source": [
    "class Ranker(tfrs.models.Model):\n",
    "  def __init__(self,layers):\n",
    "    super(Ranker,self).__init__()\n",
    "    self.rating_model=Rating(layers)\n",
    "    self.task = tfrs.tasks.Ranking(\n",
    "          loss = tf.keras.losses.MeanSquaredError(),\n",
    "          metrics=[tf.keras.metrics.RootMeanSquaredError()]\n",
    "        )\n",
    "  def compute_loss(self,features,training=True):\n",
    "    labels=features.pop('rating')\n",
    "    pred=self.rating_model(features)\n",
    "    return self.task(labels=labels, predictions=pred)"
   ]
  },
  {
   "cell_type": "code",
   "execution_count": 25,
   "metadata": {
    "id": "gQNUyPUmeuqn"
   },
   "outputs": [],
   "source": [
    "model = Ranker([64,32,16])\n",
    "model.compile(optimizer=tf.keras.optimizers.Adagrad(learning_rate=0.1))"
   ]
  },
  {
   "cell_type": "markdown",
   "metadata": {
    "id": "KLGE_SnDuFR1"
   },
   "source": [
    "# preparing data to train model"
   ]
  },
  {
   "cell_type": "code",
   "execution_count": 26,
   "metadata": {
    "id": "GWzg9A8suA3i"
   },
   "outputs": [],
   "source": [
    "cached_train = train.shuffle(100_000).batch(2048).cache().prefetch(tf.data.AUTOTUNE)\n",
    "cached_test = test.batch(4096).cache().prefetch(tf.data.AUTOTUNE)"
   ]
  },
  {
   "cell_type": "markdown",
   "metadata": {
    "id": "sZXvpCOluTVi"
   },
   "source": [
    "# training"
   ]
  },
  {
   "cell_type": "code",
   "execution_count": 29,
   "metadata": {
    "colab": {
     "base_uri": "https://localhost:8080/"
    },
    "id": "bYzJHHO-uSpi",
    "outputId": "4e3ceef8-a08b-49f4-bae6-52f4421780f1"
   },
   "outputs": [
    {
     "name": "stdout",
     "output_type": "stream",
     "text": [
      "Epoch 1/5\n",
      "40/40 [==============================] - 3s 31ms/step - root_mean_squared_error: 1.4133 - loss: 1.9584 - regularization_loss: 0.0000e+00 - total_loss: 1.9584\n",
      "Epoch 2/5\n",
      "40/40 [==============================] - 1s 31ms/step - root_mean_squared_error: 1.1237 - loss: 1.2582 - regularization_loss: 0.0000e+00 - total_loss: 1.2582\n",
      "Epoch 3/5\n",
      "40/40 [==============================] - 1s 31ms/step - root_mean_squared_error: 1.1246 - loss: 1.2594 - regularization_loss: 0.0000e+00 - total_loss: 1.2594\n",
      "Epoch 4/5\n",
      "40/40 [==============================] - 2s 41ms/step - root_mean_squared_error: 1.1211 - loss: 1.2514 - regularization_loss: 0.0000e+00 - total_loss: 1.2514\n",
      "Epoch 5/5\n",
      "40/40 [==============================] - 2s 38ms/step - root_mean_squared_error: 1.1195 - loss: 1.2460 - regularization_loss: 0.0000e+00 - total_loss: 1.2460 - val_root_mean_squared_error: 1.1207 - val_loss: 1.2624 - val_regularization_loss: 0.0000e+00 - val_total_loss: 1.2624\n",
      "3/3 [==============================] - 0s 18ms/step - root_mean_squared_error: 1.1207 - loss: 1.2585 - regularization_loss: 0.0000e+00 - total_loss: 1.2585\n"
     ]
    },
    {
     "data": {
      "text/plain": [
       "{'loss': 1.2623728513717651,\n",
       " 'regularization_loss': 0,\n",
       " 'root_mean_squared_error': 1.120743751525879,\n",
       " 'total_loss': 1.2623728513717651}"
      ]
     },
     "execution_count": 29,
     "metadata": {},
     "output_type": "execute_result"
    }
   ],
   "source": [
    "num_epochs = 5\n",
    "model = Ranker([64])\n",
    "model.compile(optimizer=tf.keras.optimizers.Adagrad(0.1))\n",
    "\n",
    "one_layer_history = model.fit(\n",
    "    cached_train,\n",
    "    validation_data=cached_test,\n",
    "    validation_freq=5,\n",
    "    epochs=num_epochs,\n",
    "    verbose=1)\n",
    "\n",
    "model.evaluate(cached_test, return_dict=True)"
   ]
  },
  {
   "cell_type": "markdown",
   "metadata": {
    "id": "Hw4Sv-xD2yYb"
   },
   "source": [
    "# building model with call method"
   ]
  },
  {
   "cell_type": "code",
   "execution_count": 31,
   "metadata": {
    "id": "5iw4Losw2xuW"
   },
   "outputs": [],
   "source": [
    "class Ranker(tfrs.models.Model):\n",
    "  def __init__(self,layers):\n",
    "    super(Ranker,self).__init__()\n",
    "    self.rating_model=Rating(layers)\n",
    "    self.task = tfrs.tasks.Ranking(\n",
    "          loss = tf.keras.losses.MeanSquaredError(),\n",
    "          metrics=[tf.keras.metrics.RootMeanSquaredError()]\n",
    "        )\n",
    "  def call(self,inputs):\n",
    "    rate=self.rating_model(inputs)\n",
    "    return rate\n",
    "  def compute_loss(self,features,\n",
    "                   training=True\n",
    "                  #Whether the model is in training mode\n",
    "                   ):\n",
    "    labels=features.pop('rating')\n",
    "    pred=self(features)\n",
    "    return self.task(labels=labels, predictions=pred)"
   ]
  },
  {
   "cell_type": "code",
   "execution_count": 32,
   "metadata": {
    "colab": {
     "base_uri": "https://localhost:8080/"
    },
    "id": "5uFSa-dp2eyq",
    "outputId": "66b200b6-0bd8-4e30-a4c9-3b046dba7d02"
   },
   "outputs": [
    {
     "name": "stdout",
     "output_type": "stream",
     "text": [
      "3/3 [==============================] - 0s 19ms/step - root_mean_squared_error: 1.1126 - loss: 1.2421 - regularization_loss: 0.0000e+00 - total_loss: 1.2421\n"
     ]
    },
    {
     "data": {
      "text/plain": [
       "{'loss': 1.248848795890808,\n",
       " 'regularization_loss': 0,\n",
       " 'root_mean_squared_error': 1.112566351890564,\n",
       " 'total_loss': 1.248848795890808}"
      ]
     },
     "execution_count": 32,
     "metadata": {},
     "output_type": "execute_result"
    }
   ],
   "source": [
    "num_epochs = 5\n",
    "model = Ranker([64])\n",
    "model.compile(optimizer=tf.keras.optimizers.Adagrad(0.1))\n",
    "\n",
    "one_layer_history = model.fit(\n",
    "    cached_train,\n",
    "    validation_data=cached_test,\n",
    "    validation_freq=5,\n",
    "    epochs=num_epochs,\n",
    "    verbose=0)\n",
    "\n",
    "model.evaluate(cached_test, return_dict=True)"
   ]
  },
  {
   "cell_type": "markdown",
   "metadata": {
    "id": "f4Mf3sHjzDG7"
   },
   "source": [
    "# testing model"
   ]
  },
  {
   "cell_type": "code",
   "execution_count": 33,
   "metadata": {
    "colab": {
     "base_uri": "https://localhost:8080/"
    },
    "id": "ZXk-4_kqx_aH",
    "outputId": "8b2cfc34-28ea-4300-8b05-18b713a80210"
   },
   "outputs": [
    {
     "name": "stdout",
     "output_type": "stream",
     "text": [
      "user : one random user\n",
      " movie : [b'Shining, The (1980)']\n",
      "actual rate is [2.]\n",
      " predicted rate is [[3.4873476]]\n",
      "------------------------\n",
      "user : one random user\n",
      " movie : [b'Speed (1994)']\n",
      "actual rate is [4.]\n",
      " predicted rate is [[3.3322208]]\n",
      "------------------------\n",
      "user : one random user\n",
      " movie : [b'Terminator 2: Judgment Day (1991)']\n",
      "actual rate is [3.]\n",
      " predicted rate is [[3.4740837]]\n",
      "------------------------\n",
      "user : one random user\n",
      " movie : [b'Army of Darkness (1993)']\n",
      "actual rate is [4.]\n",
      " predicted rate is [[3.0966947]]\n",
      "------------------------\n",
      "user : one random user\n",
      " movie : [b'Evita (1996)']\n",
      "actual rate is [4.]\n",
      " predicted rate is [[3.5705984]]\n",
      "------------------------\n",
      "user : one random user\n",
      " movie : [b'Jurassic Park (1993)']\n",
      "actual rate is [5.]\n",
      " predicted rate is [[3.4242237]]\n",
      "------------------------\n",
      "user : one random user\n",
      " movie : [b'Kiss of Death (1995)']\n",
      "actual rate is [3.]\n",
      " predicted rate is [[3.5719059]]\n",
      "------------------------\n",
      "user : one random user\n",
      " movie : [b'Glimmer Man, The (1996)']\n",
      "actual rate is [3.]\n",
      " predicted rate is [[3.0097651]]\n",
      "------------------------\n",
      "user : one random user\n",
      " movie : [b'To Wong Foo, Thanks for Everything! Julie Newmar (1995)']\n",
      "actual rate is [2.]\n",
      " predicted rate is [[3.477873]]\n",
      "------------------------\n",
      "user : one random user\n",
      " movie : [b'Once Upon a Time in the West (1969)']\n",
      "actual rate is [3.]\n",
      " predicted rate is [[3.4468567]]\n",
      "------------------------\n",
      "user : one random user\n",
      " movie : [b'Grosse Pointe Blank (1997)']\n",
      "actual rate is [3.]\n",
      " predicted rate is [[3.478802]]\n",
      "------------------------\n",
      "user : one random user\n",
      " movie : [b'Braveheart (1995)']\n",
      "actual rate is [4.]\n",
      " predicted rate is [[3.5166883]]\n",
      "------------------------\n",
      "user : one random user\n",
      " movie : [b'Pillow Book, The (1995)']\n",
      "actual rate is [5.]\n",
      " predicted rate is [[3.5730464]]\n",
      "------------------------\n",
      "user : one random user\n",
      " movie : [b'Lord of Illusions (1995)']\n",
      "actual rate is [3.]\n",
      " predicted rate is [[3.4832442]]\n",
      "------------------------\n",
      "user : one random user\n",
      " movie : [b'Return of Martin Guerre, The (Retour de Martin Guerre, Le) (1982)']\n",
      "actual rate is [4.]\n",
      " predicted rate is [[3.5759408]]\n",
      "------------------------\n",
      "user : one random user\n",
      " movie : [b'Out to Sea (1997)']\n",
      "actual rate is [1.]\n",
      " predicted rate is [[3.477163]]\n",
      "------------------------\n",
      "user : one random user\n",
      " movie : [b'Little Princess, The (1939)']\n",
      "actual rate is [3.]\n",
      " predicted rate is [[3.4920022]]\n",
      "------------------------\n",
      "user : one random user\n",
      " movie : [b'G.I. Jane (1997)']\n",
      "actual rate is [2.]\n",
      " predicted rate is [[3.1287494]]\n",
      "------------------------\n",
      "user : one random user\n",
      " movie : [b'Sense and Sensibility (1995)']\n",
      "actual rate is [4.]\n",
      " predicted rate is [[3.5740876]]\n",
      "------------------------\n",
      "user : one random user\n",
      " movie : [b'Chasing Amy (1997)']\n",
      "actual rate is [3.]\n",
      " predicted rate is [[3.5752857]]\n",
      "------------------------\n"
     ]
    }
   ],
   "source": [
    "test_data=[i for i in train.batch(1).take(20)]\n",
    "\n",
    "for test in test_data:\n",
    "  prediction=model(test)\n",
    "  actual_label=test['rating']\n",
    "  movie_title=test['movie_title']\n",
    "  print('user : one random user')\n",
    "  print(f' movie : {movie_title}')\n",
    "  print(f'actual rate is {actual_label}\\n predicted rate is {prediction}')\n",
    "  print('------------------------')"
   ]
  },
  {
   "cell_type": "code",
   "execution_count": null,
   "metadata": {
    "id": "onEZqDXo0q6M"
   },
   "outputs": [],
   "source": []
  }
 ],
 "metadata": {
  "colab": {
   "name": "Copy of deep ranker model.ipynb",
   "provenance": []
  },
  "kernelspec": {
   "display_name": "Python 3 (ipykernel)",
   "language": "python",
   "name": "python3"
  },
  "language_info": {
   "codemirror_mode": {
    "name": "ipython",
    "version": 3
   },
   "file_extension": ".py",
   "mimetype": "text/x-python",
   "name": "python",
   "nbconvert_exporter": "python",
   "pygments_lexer": "ipython3",
   "version": "3.10.4"
  }
 },
 "nbformat": 4,
 "nbformat_minor": 1
}
