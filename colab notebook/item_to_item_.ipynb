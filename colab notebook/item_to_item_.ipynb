{
  "nbformat": 4,
  "nbformat_minor": 0,
  "metadata": {
    "colab": {
      "name": "item to item .ipynb",
      "provenance": [],
      "collapsed_sections": [
        "Zn05AHMXJqqE"
      ]
    },
    "kernelspec": {
      "name": "python3",
      "display_name": "Python 3"
    },
    "language_info": {
      "name": "python"
    },
    "accelerator": "GPU"
  },
  "cells": [
    {
      "cell_type": "markdown",
      "metadata": {
        "id": "UVUrlIRCQdH8"
      },
      "source": [
        "the retrieval stage is responsible for selecting an initial set of hundreds of candidates from all possible candidates. The main objective of this model is to efficiently weed out all candidates that the user is not interested in. Because the retrieval model may be dealing with millions of candidates, it has to be computationally efficient."
      ]
    },
    {
      "cell_type": "markdown",
      "metadata": {
        "id": "K6piQEH-Qlz2"
      },
      "source": [
        "etrieval models are often composed of two sub-models:\n",
        "\n",
        "1. A query model computing the query representation (normally a fixed-dimensionality embedding vector) using query features.\n",
        "2. A candidate model computing the candidate representation (an equally-sized vector) using the candidate features\n",
        "The outputs of the two models are then multiplied together to give a query-candidate affinity score, with higher scores expressing a better match between the candidate and the query."
      ]
    },
    {
      "cell_type": "markdown",
      "metadata": {
        "id": "CKeJX4oZRn5O"
      },
      "source": [
        "cabdidate representation will be created from:\n",
        "1. movie title\n",
        "2. movie genre \n",
        "user representation will be created from:\n",
        "1. user age.\n",
        "2. user occupation.\n",
        "3. user gender.\n",
        "4. time as a contextual feature"
      ]
    },
    {
      "cell_type": "markdown",
      "metadata": {
        "id": "q1VUezE8RFYl"
      },
      "source": [
        "# importing necessary libreries"
      ]
    },
    {
      "cell_type": "code",
      "metadata": {
        "colab": {
          "base_uri": "https://localhost:8080/"
        },
        "id": "3aep6MsLQCLK",
        "outputId": "c4144c03-9a34-4309-f7d8-2679c3df5777"
      },
      "source": [
        "!pip install -q tensorflow-recommenders\n",
        "!pip install -q --upgrade tensorflow-datasets\n"
      ],
      "execution_count": null,
      "outputs": [
        {
          "output_type": "stream",
          "name": "stdout",
          "text": [
            "\u001b[K     |████████████████████████████████| 85 kB 2.8 MB/s \n",
            "\u001b[K     |████████████████████████████████| 462 kB 29.8 MB/s \n",
            "\u001b[K     |████████████████████████████████| 4.2 MB 4.7 MB/s \n",
            "\u001b[?25h"
          ]
        }
      ]
    },
    {
      "cell_type": "code",
      "metadata": {
        "id": "W3r0WtXwRUrM"
      },
      "source": [
        "import os\n",
        "import tensorflow as tf\n",
        "import tensorflow_recommenders as tfrs\n",
        "import numpy as np\n",
        "import pprint"
      ],
      "execution_count": null,
      "outputs": []
    },
    {
      "cell_type": "markdown",
      "source": [
        "# Set up two virtual GPUs"
      ],
      "metadata": {
        "id": "tbeokTAPleUw"
      }
    },
    {
      "cell_type": "markdown",
      "metadata": {
        "id": "mjwvLUo8Rsjh"
      },
      "source": [
        "# loading data from drive"
      ]
    },
    {
      "cell_type": "code",
      "metadata": {
        "colab": {
          "base_uri": "https://localhost:8080/"
        },
        "id": "T_QJDnP7Rpjr",
        "outputId": "4e31d46e-8864-4984-d08a-209b2c5466f7"
      },
      "source": [
        "#movies=tf.data.experimental.load('/content/drive/MyDrive/datasets/movielens_movies')\n",
        "ratings=tf.data.experimental.load('/content/drive/MyDrive/datasets/movielens_ratings')\n",
        "for x in ratings.take(1).as_numpy_iterator():\n",
        "  pprint.pprint(x)"
      ],
      "execution_count": null,
      "outputs": [
        {
          "output_type": "stream",
          "name": "stdout",
          "text": [
            "{'bucketized_user_age': 45.0,\n",
            " 'movie_genres': array([7]),\n",
            " 'movie_id': b'357',\n",
            " 'movie_title': b\"One Flew Over the Cuckoo's Nest (1975)\",\n",
            " 'raw_user_age': 46.0,\n",
            " 'timestamp': 879024327,\n",
            " 'user_gender': True,\n",
            " 'user_id': b'138',\n",
            " 'user_occupation_label': 4,\n",
            " 'user_occupation_text': b'doctor',\n",
            " 'user_rating': 4.0,\n",
            " 'user_zip_code': b'53211'}\n"
          ]
        }
      ]
    },
    {
      "cell_type": "markdown",
      "source": [
        ""
      ],
      "metadata": {
        "id": "VyVO6WvXSPcn"
      }
    },
    {
      "cell_type": "code",
      "source": [
        "movie_data=ratings.map(lambda x:{\n",
        "    'id':x['movie_id'],\n",
        "    'title':x['movie_title'],\n",
        "    'genre':fx['movie_genres'][0],\n",
        "\n",
        "})\n",
        "\n",
        "\n",
        "\n"
      ],
      "metadata": {
        "id": "AKedUTbSmHpR"
      },
      "execution_count": null,
      "outputs": []
    },
    {
      "cell_type": "code",
      "metadata": {
        "colab": {
          "base_uri": "https://localhost:8080/"
        },
        "id": "cRFnUm5xTiPG",
        "outputId": "94518531-840c-400d-8e91-fe7a54ae9cc4"
      },
      "source": [
        "for x in movie_data.take(1).as_numpy_iterator():\n",
        "  pprint.pprint(x)\n",
        "print('-------------------------------')\n"
      ],
      "execution_count": null,
      "outputs": [
        {
          "output_type": "stream",
          "name": "stdout",
          "text": [
            "{'genre': 7.0, 'id': b'357', 'title': b\"One Flew Over the Cuckoo's Nest (1975)\"}\n",
            "-------------------------------\n"
          ]
        }
      ]
    },
    {
      "cell_type": "markdown",
      "metadata": {
        "id": "aY1ITuJkVAcQ"
      },
      "source": [
        "# creating a vocabulary for movie title and user occupation"
      ]
    },
    {
      "cell_type": "code",
      "metadata": {
        "id": "uEN08slcUSAM"
      },
      "source": [
        "movie_titles=movie_data.map(lambda x:x['title'])\n",
        "unique_movie_titles=np.unique(np.concatenate(list(movie_titles.batch(1_000))))\n",
        "movie_genres=movie_data.map(lambda x :x['genre'])\n",
        "unique_movie_genres=np.unique(np.concatenate(list(movie_genres.batch(1_000))))"
      ],
      "execution_count": null,
      "outputs": []
    },
    {
      "cell_type": "markdown",
      "metadata": {
        "id": "-dRFS8OkXTIc"
      },
      "source": [
        "# spliting data to train and test "
      ]
    },
    {
      "cell_type": "code",
      "metadata": {
        "id": "debzTeMZWTXR"
      },
      "source": [
        "tf.random.set_seed(123)\n",
        "shuffled=movie_data.shuffle(1_000,reshuffle_each_iteration=False)\n",
        "\n",
        "train=shuffled.take(80_000)\n",
        "test=shuffled.skip(80_000).take(10_000)"
      ],
      "execution_count": null,
      "outputs": []
    },
    {
      "cell_type": "markdown",
      "metadata": {
        "id": "97e4E0T8Xz3M"
      },
      "source": [
        "# building model\n",
        "Because we are building a two-tower retrieval model, we can build each tower separately and then combine them in the final model."
      ]
    },
    {
      "cell_type": "markdown",
      "metadata": {
        "id": "EUZjONjGYAmD"
      },
      "source": [
        "#  creating seprate models"
      ]
    },
    {
      "cell_type": "code",
      "source": [
        "\n",
        "# with strategy.scope():\n",
        "embedding_dim=128\n",
        "# genre model\n",
        "genre_model=tf.keras.Sequential(\n",
        "    [tf.keras.layers.IntegerLookup(vocabulary=unique_movie_genres),\n",
        "    tf.keras.layers.Embedding(len(unique_movie_genres)+1,embedding_dim)\n",
        "    ]\n",
        "    )\n",
        "\n",
        "\n",
        "# movie title model\n",
        "movie_model=tf.keras.Sequential(\n",
        "    [tf.keras.layers.StringLookup(vocabulary=unique_movie_titles),\n",
        "    tf.keras.layers.Embedding(len(unique_movie_titles)+1,embedding_dim)\n",
        "    ]\n",
        "        )\n"
      ],
      "metadata": {
        "id": "ZDWmFJ6azLJf"
      },
      "execution_count": null,
      "outputs": []
    },
    {
      "cell_type": "markdown",
      "metadata": {
        "id": "7HTRN819jBga"
      },
      "source": [
        "# query tower"
      ]
    },
    {
      "cell_type": "markdown",
      "metadata": {
        "id": "LmV0NtNzjEpr"
      },
      "source": [
        "* user model"
      ]
    },
    {
      "cell_type": "code",
      "metadata": {
        "id": "BZyd-pNWi6iX"
      },
      "source": [
        "# with strategy.scope():\n",
        "\n",
        "class MovieModel(tf.keras.Model):\n",
        "  def __init__(self):\n",
        "    super().__init__()\n",
        "    \n",
        "    self.genre_model=genre_model\n",
        "    self.movie_model=movie_model\n",
        "\n",
        "  def call(self,inputs):\n",
        "    out=tf.concat(\n",
        "        [\n",
        "        self.genre_model(inputs['genre']),\n",
        "        self.movie_model(inputs['title']),\n",
        "        ],axis=1\n",
        "    )\n",
        "    return out"
      ],
      "execution_count": null,
      "outputs": []
    },
    {
      "cell_type": "code",
      "source": [
        "a=tf.constant([[1,23,3]])\n",
        "b=tf.constant([[2,5,4,7]])\n",
        "tf.concat([a,b],axis=1)"
      ],
      "metadata": {
        "colab": {
          "base_uri": "https://localhost:8080/"
        },
        "id": "OouqdThApRop",
        "outputId": "2e27ae1e-22e2-4660-d21f-e21b3b8f10bb"
      },
      "execution_count": null,
      "outputs": [
        {
          "output_type": "execute_result",
          "data": {
            "text/plain": [
              "<tf.Tensor: shape=(1, 7), dtype=int32, numpy=array([[ 1, 23,  3,  2,  5,  4,  7]], dtype=int32)>"
            ]
          },
          "metadata": {},
          "execution_count": 38
        }
      ]
    },
    {
      "cell_type": "code",
      "metadata": {
        "id": "76RtyoIHlWaQ"
      },
      "source": [
        "# with strategy.scope():\n",
        "class QueryTower(tf.keras.Model):\n",
        "  def __init__(self,layers):\n",
        "    super().__init__()\n",
        "    self.movie_model=MovieModel()\n",
        "    self.dense_model=tf.keras.Sequential()\n",
        "    for layer in layers[:-1]:\n",
        "      self.dense_model.add(tf.keras.layers.Dense(layer,activation='relu'))\n",
        "    for layer in layers[-1:]:\n",
        "      self.dense_model.add(tf.keras.layers.Dense(layer))\n",
        "  def call(self,inputs):\n",
        "    v=self.movie_model(inputs)\n",
        "    return self.dense_model(v)\n"
      ],
      "execution_count": null,
      "outputs": []
    },
    {
      "cell_type": "markdown",
      "metadata": {
        "id": "L6x7kDFNm2ao"
      },
      "source": [
        "# candidate tower\n",
        "* movie model"
      ]
    },
    {
      "cell_type": "markdown",
      "metadata": {
        "id": "gYj3r3jmoA1X"
      },
      "source": [
        "* candidate tower"
      ]
    },
    {
      "cell_type": "code",
      "metadata": {
        "id": "IoYq0mqooF4v"
      },
      "source": [
        "# with strategy.scope():\n",
        "class CandidateTower(tf.keras.Model):\n",
        "  def __init__(self,layers):\n",
        "    super().__init__()\n",
        "    self.movie_model=MovieModel()\n",
        "    self.dense_model=tf.keras.Sequential()\n",
        "    for layer in layers[:-1]:\n",
        "      self.dense_model.add(tf.keras.layers.Dense(layer,activation='relu'))\n",
        "    for layer in layers[-1:]:\n",
        "      self.dense_model.add(tf.keras.layers.Dense(layer))\n",
        "  def call(self,inputs):\n",
        "    v=self.movie_model(inputs)\n",
        "    return self.dense_model(v)"
      ],
      "execution_count": null,
      "outputs": []
    },
    {
      "cell_type": "markdown",
      "metadata": {
        "id": "zObnIak1cz54"
      },
      "source": [
        "# Metrics\n",
        "In our training data we have positive (user, user) pairs. To figure out how good our model is, we need to compare the affinity score that the model calculates for this pair to the scores of all the other possible candidates: if the score for the positive pair is higher than for all other candidates, our model is highly accurate.\n",
        "\n",
        "To do this, we can use the tfrs.metrics.FactorizedTopK metric. The metric has one required argument: the dataset of candidates that are used as implicit negatives for evaluation.\n",
        "\n",
        "In our case, that's the movies dataset, converted into embeddings via our movie model:"
      ]
    },
    {
      "cell_type": "markdown",
      "metadata": {
        "id": "IT8pD8HgenBU"
      },
      "source": [
        "# task\n",
        "The task itself is a Keras layer that takes the query and candidate embeddings as arguments, and returns the computed loss: we'll use that to implement the model's training loop."
      ]
    },
    {
      "cell_type": "markdown",
      "metadata": {
        "id": "a186E6fre8Dz"
      },
      "source": [
        "# the full model\n",
        "We can now put it all together into a model. TFRS exposes a base model class (tfrs.models.Model) which streamlines building models: all we need to do is to set up the components in the __init__ method, and implement the compute_loss method, taking in the raw features and returning a loss value."
      ]
    },
    {
      "cell_type": "code",
      "metadata": {
        "id": "MELVC-iVeuWv"
      },
      "source": [
        "# with strategy.scope():\n",
        "class CombinedModels(tfrs.models.Model):\n",
        "  def __init__(self,layers):\n",
        "    super().__init__()\n",
        "    self.query_tower=QueryTower(layers)\n",
        "    self.candidate_tower=CandidateTower(layers)\n",
        "    self.task=tfrs.tasks.Retrieval(\n",
        "        metrics=tfrs.metrics.FactorizedTopK(\n",
        "            candidates=movie_data.batch(128).map(self.candidate_tower)\n",
        "        )\n",
        "    )\n",
        "  def compute_loss(self, features,training=False):\n",
        "    # We only pass the user id and timestamp features into the query model. This\n",
        "    # is to ensure that the training inputs would have the same keys as the\n",
        "    # query inputs. Otherwise the discrepancy in input structure would cause an\n",
        "    # error when loading the query model after saving it.\n",
        "    query_embeddings=self.query_tower({\n",
        "        'genre':features['genre'],\n",
        "        'title':features['title'],\n",
        "\n",
        "    })\n",
        "    candidate_embeddings=self.candidate_tower({\n",
        "        'genre':features['genre'],\n",
        "        'title':features['title'],\n",
        "    })\n",
        "    return self.task(query_embeddings,candidate_embeddings,compute_metrics=not training)"
      ],
      "execution_count": null,
      "outputs": []
    },
    {
      "cell_type": "markdown",
      "metadata": {
        "id": "LuVwSURFviHe"
      },
      "source": [
        "# preparing data to train model"
      ]
    },
    {
      "cell_type": "code",
      "metadata": {
        "id": "nOf9oAUPvUW7"
      },
      "source": [
        "cached_train = train.shuffle(100_000).batch(2048)\n",
        "cached_test = test.batch(1024).cache()"
      ],
      "execution_count": null,
      "outputs": []
    },
    {
      "cell_type": "markdown",
      "metadata": {
        "id": "AjQXz4b_vvte"
      },
      "source": [
        "# training "
      ]
    },
    {
      "cell_type": "code",
      "metadata": {
        "id": "lAhzbfOJvxF_"
      },
      "source": [
        "num_epochs = 10\n",
        "# with strategy.scope():\n",
        "\n",
        "model = CombinedModels([64,32,16])\n",
        "model.compile(optimizer=tf.keras.optimizers.Adagrad(0.1))\n",
        "one_layer_history = model.fit(\n",
        "    cached_train,\n",
        "    validation_data=cached_test,\n",
        "    validation_freq=5,\n",
        "    epochs=num_epochs,\n",
        "    verbose=1)\n",
        "\n",
        "accuracy = one_layer_history.history[\"val_factorized_top_k/top_100_categorical_accuracy\"][-1]\n",
        "print(f\"Top-100 accuracy: {accuracy:.2f}.\")"
      ],
      "execution_count": null,
      "outputs": []
    },
    {
      "cell_type": "code",
      "source": [
        "import matplotlib.pyplot as plt\n",
        "\n",
        "plt.plot(one_layer_history.history[\"val_factorized_top_k/top_100_categorical_accuracy\"])"
      ],
      "metadata": {
        "colab": {
          "base_uri": "https://localhost:8080/",
          "height": 283
        },
        "id": "ueKyFDGWVEO9",
        "outputId": "b4d481c0-1354-409d-bec8-de32f19ef2a2"
      },
      "execution_count": null,
      "outputs": [
        {
          "output_type": "execute_result",
          "data": {
            "text/plain": [
              "[<matplotlib.lines.Line2D at 0x7f1a45daee90>]"
            ]
          },
          "metadata": {},
          "execution_count": 16
        },
        {
          "output_type": "display_data",
          "data": {
            "text/plain": [
              "<Figure size 432x288 with 1 Axes>"
            ],
            "image/png": "[encoded data removed]"
          },
          "metadata": {
            "needs_background": "light"
          }
        }
      ]
    },
    {
      "cell_type": "code",
      "source": [
        "accuracy = one_layer_history.history[\"val_factorized_top_k/top_100_categorical_accuracy\"][-1]\n",
        "print(f\"Top-100 accuracy: {accuracy:.2f}.\")"
      ],
      "metadata": {
        "colab": {
          "base_uri": "https://localhost:8080/"
        },
        "id": "TtfJ1prAc95Z",
        "outputId": "73551205-db7a-47d8-ef44-3b4f225d4aa4"
      },
      "execution_count": null,
      "outputs": [
        {
          "output_type": "stream",
          "name": "stdout",
          "text": [
            "Top-100 accuracy: 0.72.\n"
          ]
        }
      ]
    },
    {
      "cell_type": "markdown",
      "metadata": {
        "id": "fXlgiEzUJOdj"
      },
      "source": [
        "# making prediction"
      ]
    },
    {
      "cell_type": "code",
      "source": [
        "d=[i for i in train.batch(1).take(20).cache()]\n"
      ],
      "metadata": {
        "id": "LgfD2lQqqryO"
      },
      "execution_count": null,
      "outputs": []
    },
    {
      "cell_type": "code",
      "metadata": {
        "id": "Z527200C7DcV",
        "colab": {
          "base_uri": "https://localhost:8080/"
        },
        "outputId": "8f9bc152-796c-4a03-a91f-fb9cd96f34b6"
      },
      "source": [
        "top_k=10000\n",
        "index=tfrs.layers.factorized_top_k.BruteForce(model.query_tower,k=top_k)\n",
        "'''index.index_from_dataset(\n",
        "    tf.data.Dataset.zip((candidate identifiers,\n",
        "                         candidate embeddings)))\n",
        ")'''\n",
        "index.index_from_dataset(\n",
        "    tf.data.Dataset.zip((movie_data.map(lambda x : x['id']).batch(100),\n",
        "                         movie_data.batch(100).map(model.candidate_tower)))\n",
        ")\n"
      ],
      "execution_count": null,
      "outputs": [
        {
          "output_type": "execute_result",
          "data": {
            "text/plain": [
              "<tensorflow_recommenders.layers.factorized_top_k.BruteForce at 0x7f1a45dae250>"
            ]
          },
          "metadata": {},
          "execution_count": 19
        }
      ]
    },
    {
      "cell_type": "markdown",
      "source": [
        "# utility functions"
      ],
      "metadata": {
        "id": "Zn05AHMXJqqE"
      }
    },
    {
      "cell_type": "code",
      "source": [
        "def output_cleaner(outputs):\n",
        "  (unique, counts) = np.unique(outputs.numpy()[0], return_counts=True)\n",
        "  ziped_file=zip(unique,counts)\n",
        "  output_array=outputs.numpy()[0]\n",
        "  for uniques in unique:\n",
        "    to_be_deleted=np.where(output_array==uniques)[0]\n",
        "    output_array=np.delete(output_array,to_be_deleted[1:])\n",
        "  dictionary=dict(ziped_file)\n",
        "  ys =[]\n",
        "  \n",
        "  \n",
        "  for i,x in enumerate(output_array):\n",
        "    ys.append((f'{i+1}th movie ', x))\n",
        "\n",
        "\n",
        "  return ys\n",
        "      \n"
      ],
      "metadata": {
        "id": "vFh8z0tlJmNC"
      },
      "execution_count": null,
      "outputs": []
    },
    {
      "cell_type": "code",
      "source": [
        "def movie_feature_extractor(id_wanted):\n",
        "  for j in movie_data.batch(1):\n",
        "    i=0\n",
        "    if j['id'].numpy()[0]==id_wanted:\n",
        "      i+=1\n",
        "      if i==1:\n",
        "        print('movie features: \\n')\n",
        "        print('title: ',j['title'].numpy()[0] )\n",
        "        print('genre ',j['genre'].numpy()[0])\n",
        "        print('id ',j['id'].numpy()[0],'\\n\\n')\n",
        "        break\n",
        "\n",
        "\n"
      ],
      "metadata": {
        "id": "fxhY2X5AJp1N"
      },
      "execution_count": null,
      "outputs": []
    },
    {
      "cell_type": "code",
      "source": [
        "def n_first_recommended_movies(results,n):\n",
        "  for i in out[:n]:\n",
        "    movie_feature_extractor(i[1])\n",
        "    print('-------------------------')\n"
      ],
      "metadata": {
        "id": "xjJcQwrZ2k4e"
      },
      "execution_count": null,
      "outputs": []
    },
    {
      "cell_type": "code",
      "source": [
        "def n_last_recommended_movies(results,n):\n",
        "  for i in out[-n:]:\n",
        "    movie_feature_extractor(i[1])\n",
        "    print('-------------------------')\n"
      ],
      "metadata": {
        "id": "--qlEMDYYv_Q"
      },
      "execution_count": null,
      "outputs": []
    },
    {
      "cell_type": "markdown",
      "source": [
        "# print predictions"
      ],
      "metadata": {
        "id": "h56tQHv1JuRb"
      }
    },
    {
      "cell_type": "code",
      "metadata": {
        "id": "p-DaQmTfLviP",
        "colab": {
          "base_uri": "https://localhost:8080/"
        },
        "outputId": "4f1543c2-a3aa-4f79-aa40-b0ca2706105a"
      },
      "source": [
        "print(f\"{top_k} movies similar to movie:{d[1]['id'].numpy()[0]} with below features \\n\\n\")\n",
        "movie_feature_extractor(d[1]['id'].numpy()[0])\n",
        "extra,recommes=index(d[1])\n",
        "out=output_cleaner(recommes)\n"
      ],
      "execution_count": null,
      "outputs": [
        {
          "output_type": "stream",
          "name": "stdout",
          "text": [
            "10000 movies similar to movie:b'568' with below features \n",
            "\n",
            "\n",
            "movie features: \n",
            "\n",
            "title:  b'Speed (1994)'\n",
            "genre  0.0\n",
            "id  b'568' \n",
            "\n",
            "\n"
          ]
        }
      ]
    }
  ]
}