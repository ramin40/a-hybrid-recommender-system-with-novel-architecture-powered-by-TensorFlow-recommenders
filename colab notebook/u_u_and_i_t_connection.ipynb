{
  "nbformat": 4,
  "nbformat_minor": 0,
  "metadata": {
    "colab": {
      "name": "u-u and i-t connection.ipynb",
      "provenance": [],
      "collapsed_sections": []
    },
    "kernelspec": {
      "name": "python3",
      "display_name": "Python 3"
    },
    "language_info": {
      "name": "python"
    }
  },
  "cells": [
    {
      "cell_type": "code",
      "source": [
        "! pip install -q tensorflow_recommenders"
      ],
      "metadata": {
        "colab": {
          "base_uri": "https://localhost:8080/"
        },
        "id": "cHBFe7xnyyWg",
        "outputId": "fb20c94f-cc8f-42d9-b8eb-ec755b0f1473"
      },
      "execution_count": 2,
      "outputs": [
        {
          "output_type": "stream",
          "name": "stdout",
          "text": [
            "\u001b[K     |████████████████████████████████| 85 kB 2.7 MB/s \n",
            "\u001b[K     |████████████████████████████████| 462 kB 11.7 MB/s \n",
            "\u001b[?25h"
          ]
        }
      ]
    },
    {
      "cell_type": "code",
      "execution_count": null,
      "metadata": {
        "id": "ijJYeWstypKA"
      },
      "outputs": [],
      "source": [
        "import user_to_user_ as user_to_user"
      ]
    },
    {
      "cell_type": "code",
      "source": [
        "import item_to_item_ as item_to_item"
      ],
      "metadata": {
        "id": "TkdqF2nI1Yqm"
      },
      "execution_count": null,
      "outputs": []
    },
    {
      "cell_type": "code",
      "source": [
        "import user_to_item_model as user_to_item"
      ],
      "metadata": {
        "id": "vndsvgaehJS2"
      },
      "execution_count": null,
      "outputs": []
    },
    {
      "cell_type": "code",
      "source": [
        "import copy_of_deep_ranker_model as ranker"
      ],
      "metadata": {
        "id": "ijZ_BDN2os4c"
      },
      "execution_count": null,
      "outputs": []
    },
    {
      "cell_type": "code",
      "source": [
        "import tensorflow as tf\n",
        "import pprint\n",
        "ratings=tf.data.experimental.load('/content/drive/MyDrive/datasets/movielens_ratings')\n",
        "for x in ratings.take(1).as_numpy_iterator():\n",
        "  pprint.pprint(x)"
      ],
      "metadata": {
        "id": "EsPi8-N_MGru"
      },
      "execution_count": null,
      "outputs": []
    },
    {
      "cell_type": "code",
      "source": [
        "movie_data=ratings.map(lambda x:{\n",
        "    'age':float(x['raw_user_age']),\n",
        "    'user_id':x['user_id'],\n",
        "    'movie_id':x['movie_id'],\n",
        "    'time':float(x['timestamp']),\n",
        "    'gender':float(x['user_gender']),\n",
        "    'occupation':x['user_occupation_text'],\n",
        "    'movie_title':x['movie_title'],\n",
        "    'genre':float(x['movie_genres'][0])\n",
        "})"
      ],
      "metadata": {
        "id": "P84P5CJWM4p7"
      },
      "execution_count": 24,
      "outputs": []
    },
    {
      "cell_type": "markdown",
      "source": [
        "# data preapering functions"
      ],
      "metadata": {
        "id": "tE4d8kK4p7kp"
      }
    },
    {
      "cell_type": "code",
      "source": [
        "def data_creator_for_UTI_from_UTU(results,n):\n",
        "  input_data=[]\n",
        "  \n",
        "  for i in results[:n]:\n",
        "    wanted_id=i[1]\n",
        "    for j in movie_data.batch(1):\n",
        "      i=0\n",
        "      if j['user_id'].numpy()[0]==wanted_id:\n",
        "        i+=1\n",
        "        if i==1:\n",
        "          input_data.append(j)\n",
        "          break\n",
        "  return input_data\n"
      ],
      "metadata": {
        "id": "WCM9_V8v2C0A"
      },
      "execution_count": 26,
      "outputs": []
    },
    {
      "cell_type": "code",
      "source": [
        "def data_creator_for_ranker_from_UTI(results,n):\n",
        "  input_data=[]\n",
        "  for i in results[0][:n]:\n",
        "    wanted_id=i.numpy()\n",
        "    for j in movie_data.batch(1):\n",
        "      i=0\n",
        "\n",
        "      if j['movie_id'].numpy()[0]==wanted_id:\n",
        "\n",
        "        i+=1\n",
        "        if i==1:\n",
        "          input_data.append(j)\n",
        "          break\n",
        "  return input_data\n"
      ],
      "metadata": {
        "id": "9M_-4pynNhDW"
      },
      "execution_count": 61,
      "outputs": []
    },
    {
      "cell_type": "code",
      "source": [
        "def data_creator_for_ranker_from_ITI(results,n):\n",
        "  input_data=[]\n",
        "  for i in results[0][:n]:\n",
        "    id_wanted=i.numpy()\n",
        "    \n",
        "    for j in movie_data.batch(1):\n",
        "      m=0\n",
        "      \n",
        "    if j['movie_id'].numpy()[0]==id_wanted:\n",
        "      print(1)\n",
        "      m+=1\n",
        "      if m==1:\n",
        "        input_data.append(j)\n",
        "\n",
        "        break\n"
      ],
      "metadata": {
        "id": "iugy82lOXl0v"
      },
      "execution_count": 82,
      "outputs": []
    },
    {
      "cell_type": "markdown",
      "source": [
        "# preapering input data"
      ],
      "metadata": {
        "id": "sxcnbMPJp4ED"
      }
    },
    {
      "cell_type": "code",
      "source": [
        "data_for_UTI_from_ITI=data_creator_for_UTI_from_ITI(item_to_item.recommes,10)\n",
        "data_for_UTI_from_UTU=data_creator_for_UTI_from_UTU(user_to_user.recommended_users,10)\n",
        "data_for_ranker_from_UTI=data_creator_for_ranker_from_UTI(user_to_item.recommes,2)\n",
        "data_for_ranker_from_ITI=data_creator_for_ranker_from_ITI(item_to_item.recommes,2)"
      ],
      "metadata": {
        "id": "Wq5BD4NTNRsS"
      },
      "execution_count": null,
      "outputs": []
    }
  ]
}